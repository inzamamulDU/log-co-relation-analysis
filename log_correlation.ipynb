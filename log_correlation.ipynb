{
 "cells": [
  {
   "cell_type": "code",
   "execution_count": 133,
   "metadata": {},
   "outputs": [],
   "source": [
    "import pandas as pd"
   ]
  },
  {
   "cell_type": "code",
   "execution_count": 134,
   "metadata": {},
   "outputs": [],
   "source": [
    "ngnix = pd.read_csv('nginx.csv')"
   ]
  },
  {
   "cell_type": "code",
   "execution_count": 135,
   "metadata": {},
   "outputs": [
    {
     "data": {
      "text/html": [
       "<div>\n",
       "<style scoped>\n",
       "    .dataframe tbody tr th:only-of-type {\n",
       "        vertical-align: middle;\n",
       "    }\n",
       "\n",
       "    .dataframe tbody tr th {\n",
       "        vertical-align: top;\n",
       "    }\n",
       "\n",
       "    .dataframe thead th {\n",
       "        text-align: right;\n",
       "    }\n",
       "</style>\n",
       "<table border=\"1\" class=\"dataframe\">\n",
       "  <thead>\n",
       "    <tr style=\"text-align: right;\">\n",
       "      <th></th>\n",
       "      <th>time_local</th>\n",
       "      <th>remote_addr</th>\n",
       "      <th>method</th>\n",
       "      <th>request</th>\n",
       "      <th>http_version</th>\n",
       "      <th>status</th>\n",
       "      <th>body_bytes_sent</th>\n",
       "      <th>http_referer</th>\n",
       "      <th>http_user_agent</th>\n",
       "    </tr>\n",
       "  </thead>\n",
       "  <tbody>\n",
       "    <tr>\n",
       "      <th>0</th>\n",
       "      <td>29/Sep/2021:19:05:57 +0900</td>\n",
       "      <td>103.150.161.171</td>\n",
       "      <td>POST</td>\n",
       "      <td>/en/alerts/notifications</td>\n",
       "      <td>1.1</td>\n",
       "      <td>400</td>\n",
       "      <td>143</td>\n",
       "      <td>https://test001.threatidr.com/en/dashboard/</td>\n",
       "      <td>Mozilla/5.0 (Macintosh; Intel Mac OS X 10_15_7...</td>\n",
       "    </tr>\n",
       "    <tr>\n",
       "      <th>1</th>\n",
       "      <td>29/Sep/2021:19:05:48 +0900</td>\n",
       "      <td>103.150.161.171</td>\n",
       "      <td>GET</td>\n",
       "      <td>/static/build/img/favicon-40dbb4ce31bb98782905...</td>\n",
       "      <td>1.1</td>\n",
       "      <td>200</td>\n",
       "      <td>15406</td>\n",
       "      <td>https://test001.threatidr.com/en/</td>\n",
       "      <td>Mozilla/5.0 (Windows NT 10.0; Win64; x64) Appl...</td>\n",
       "    </tr>\n",
       "    <tr>\n",
       "      <th>2</th>\n",
       "      <td>29/Sep/2021:19:05:48 +0900</td>\n",
       "      <td>103.150.161.171</td>\n",
       "      <td>GET</td>\n",
       "      <td>/static/build/img/page-img/login-sidebar.png</td>\n",
       "      <td>1.1</td>\n",
       "      <td>304</td>\n",
       "      <td>0</td>\n",
       "      <td>https://test001.threatidr.com/static/build/mai...</td>\n",
       "      <td>Mozilla/5.0 (Windows NT 10.0; Win64; x64) Appl...</td>\n",
       "    </tr>\n",
       "    <tr>\n",
       "      <th>3</th>\n",
       "      <td>29/Sep/2021:19:05:47 +0900</td>\n",
       "      <td>103.150.161.171</td>\n",
       "      <td>GET</td>\n",
       "      <td>/static/build/main_js.bundle-38680b0270726d98f...</td>\n",
       "      <td>1.1</td>\n",
       "      <td>304</td>\n",
       "      <td>0</td>\n",
       "      <td>https://test001.threatidr.com/en/</td>\n",
       "      <td>Mozilla/5.0 (Windows NT 10.0; Win64; x64) Appl...</td>\n",
       "    </tr>\n",
       "    <tr>\n",
       "      <th>4</th>\n",
       "      <td>29/Sep/2021:19:05:47 +0900</td>\n",
       "      <td>103.150.161.171</td>\n",
       "      <td>GET</td>\n",
       "      <td>/static/build/main_css.bundle-2c51c6fba66fd2a7...</td>\n",
       "      <td>1.1</td>\n",
       "      <td>200</td>\n",
       "      <td>257936</td>\n",
       "      <td>https://test001.threatidr.com/en/</td>\n",
       "      <td>Mozilla/5.0 (Windows NT 10.0; Win64; x64) Appl...</td>\n",
       "    </tr>\n",
       "    <tr>\n",
       "      <th>...</th>\n",
       "      <td>...</td>\n",
       "      <td>...</td>\n",
       "      <td>...</td>\n",
       "      <td>...</td>\n",
       "      <td>...</td>\n",
       "      <td>...</td>\n",
       "      <td>...</td>\n",
       "      <td>...</td>\n",
       "      <td>...</td>\n",
       "    </tr>\n",
       "    <tr>\n",
       "      <th>267230</th>\n",
       "      <td>15/Jul/2021:16:06:35 +0900</td>\n",
       "      <td>103.150.161.171</td>\n",
       "      <td>GET</td>\n",
       "      <td>/static/build/img/country-flags/jp-25ac778acd9...</td>\n",
       "      <td>1.1</td>\n",
       "      <td>200</td>\n",
       "      <td>546</td>\n",
       "      <td>https://test001.threatidr.com/en/dashboard/</td>\n",
       "      <td>Mozilla/5.0 (Windows NT 10.0; Win64; x64) Appl...</td>\n",
       "    </tr>\n",
       "    <tr>\n",
       "      <th>267231</th>\n",
       "      <td>15/Jul/2021:16:06:35 +0900</td>\n",
       "      <td>103.150.161.171</td>\n",
       "      <td>GET</td>\n",
       "      <td>/static/build/img/icon/sidebar/Discover-957a3c...</td>\n",
       "      <td>1.1</td>\n",
       "      <td>200</td>\n",
       "      <td>1798</td>\n",
       "      <td>https://test001.threatidr.com/en/dashboard/</td>\n",
       "      <td>Mozilla/5.0 (Windows NT 10.0; Win64; x64) Appl...</td>\n",
       "    </tr>\n",
       "    <tr>\n",
       "      <th>267232</th>\n",
       "      <td>15/Jul/2021:16:06:35 +0900</td>\n",
       "      <td>103.150.161.171</td>\n",
       "      <td>GET</td>\n",
       "      <td>/static/build/img/icon/sidebar/Settings-active...</td>\n",
       "      <td>1.1</td>\n",
       "      <td>200</td>\n",
       "      <td>1341</td>\n",
       "      <td>https://test001.threatidr.com/en/dashboard/</td>\n",
       "      <td>Mozilla/5.0 (Windows NT 10.0; Win64; x64) Appl...</td>\n",
       "    </tr>\n",
       "    <tr>\n",
       "      <th>267233</th>\n",
       "      <td>15/Jul/2021:16:06:35 +0900</td>\n",
       "      <td>103.150.161.171</td>\n",
       "      <td>GET</td>\n",
       "      <td>/</td>\n",
       "      <td>1.1</td>\n",
       "      <td>302</td>\n",
       "      <td>215</td>\n",
       "      <td>-</td>\n",
       "      <td>Mozilla/5.0 (Windows NT 10.0; Win64; x64) Appl...</td>\n",
       "    </tr>\n",
       "    <tr>\n",
       "      <th>267234</th>\n",
       "      <td>15/Jul/2021:16:06:35 +0900</td>\n",
       "      <td>103.150.161.171</td>\n",
       "      <td>GET</td>\n",
       "      <td>/static/build/img/icon/sidebar/Reports-active-...</td>\n",
       "      <td>1.1</td>\n",
       "      <td>200</td>\n",
       "      <td>1206</td>\n",
       "      <td>https://test001.threatidr.com/en/dashboard/</td>\n",
       "      <td>Mozilla/5.0 (Windows NT 10.0; Win64; x64) Appl...</td>\n",
       "    </tr>\n",
       "  </tbody>\n",
       "</table>\n",
       "<p>267235 rows × 9 columns</p>\n",
       "</div>"
      ],
      "text/plain": [
       "                        time_local      remote_addr method  \\\n",
       "0       29/Sep/2021:19:05:57 +0900  103.150.161.171   POST   \n",
       "1       29/Sep/2021:19:05:48 +0900  103.150.161.171    GET   \n",
       "2       29/Sep/2021:19:05:48 +0900  103.150.161.171    GET   \n",
       "3       29/Sep/2021:19:05:47 +0900  103.150.161.171    GET   \n",
       "4       29/Sep/2021:19:05:47 +0900  103.150.161.171    GET   \n",
       "...                            ...              ...    ...   \n",
       "267230  15/Jul/2021:16:06:35 +0900  103.150.161.171    GET   \n",
       "267231  15/Jul/2021:16:06:35 +0900  103.150.161.171    GET   \n",
       "267232  15/Jul/2021:16:06:35 +0900  103.150.161.171    GET   \n",
       "267233  15/Jul/2021:16:06:35 +0900  103.150.161.171    GET   \n",
       "267234  15/Jul/2021:16:06:35 +0900  103.150.161.171    GET   \n",
       "\n",
       "                                                  request  http_version  \\\n",
       "0                                /en/alerts/notifications           1.1   \n",
       "1       /static/build/img/favicon-40dbb4ce31bb98782905...           1.1   \n",
       "2            /static/build/img/page-img/login-sidebar.png           1.1   \n",
       "3       /static/build/main_js.bundle-38680b0270726d98f...           1.1   \n",
       "4       /static/build/main_css.bundle-2c51c6fba66fd2a7...           1.1   \n",
       "...                                                   ...           ...   \n",
       "267230  /static/build/img/country-flags/jp-25ac778acd9...           1.1   \n",
       "267231  /static/build/img/icon/sidebar/Discover-957a3c...           1.1   \n",
       "267232  /static/build/img/icon/sidebar/Settings-active...           1.1   \n",
       "267233                                                  /           1.1   \n",
       "267234  /static/build/img/icon/sidebar/Reports-active-...           1.1   \n",
       "\n",
       "        status  body_bytes_sent  \\\n",
       "0          400              143   \n",
       "1          200            15406   \n",
       "2          304                0   \n",
       "3          304                0   \n",
       "4          200           257936   \n",
       "...        ...              ...   \n",
       "267230     200              546   \n",
       "267231     200             1798   \n",
       "267232     200             1341   \n",
       "267233     302              215   \n",
       "267234     200             1206   \n",
       "\n",
       "                                             http_referer  \\\n",
       "0             https://test001.threatidr.com/en/dashboard/   \n",
       "1                       https://test001.threatidr.com/en/   \n",
       "2       https://test001.threatidr.com/static/build/mai...   \n",
       "3                       https://test001.threatidr.com/en/   \n",
       "4                       https://test001.threatidr.com/en/   \n",
       "...                                                   ...   \n",
       "267230        https://test001.threatidr.com/en/dashboard/   \n",
       "267231        https://test001.threatidr.com/en/dashboard/   \n",
       "267232        https://test001.threatidr.com/en/dashboard/   \n",
       "267233                                                  -   \n",
       "267234        https://test001.threatidr.com/en/dashboard/   \n",
       "\n",
       "                                          http_user_agent  \n",
       "0       Mozilla/5.0 (Macintosh; Intel Mac OS X 10_15_7...  \n",
       "1       Mozilla/5.0 (Windows NT 10.0; Win64; x64) Appl...  \n",
       "2       Mozilla/5.0 (Windows NT 10.0; Win64; x64) Appl...  \n",
       "3       Mozilla/5.0 (Windows NT 10.0; Win64; x64) Appl...  \n",
       "4       Mozilla/5.0 (Windows NT 10.0; Win64; x64) Appl...  \n",
       "...                                                   ...  \n",
       "267230  Mozilla/5.0 (Windows NT 10.0; Win64; x64) Appl...  \n",
       "267231  Mozilla/5.0 (Windows NT 10.0; Win64; x64) Appl...  \n",
       "267232  Mozilla/5.0 (Windows NT 10.0; Win64; x64) Appl...  \n",
       "267233  Mozilla/5.0 (Windows NT 10.0; Win64; x64) Appl...  \n",
       "267234  Mozilla/5.0 (Windows NT 10.0; Win64; x64) Appl...  \n",
       "\n",
       "[267235 rows x 9 columns]"
      ]
     },
     "execution_count": 135,
     "metadata": {},
     "output_type": "execute_result"
    }
   ],
   "source": [
    "apache = pd.read_csv('apache.csv')\n",
    "apache"
   ]
  },
  {
   "cell_type": "code",
   "execution_count": null,
   "metadata": {},
   "outputs": [],
   "source": [
    "apache =apache[['status','body_bytes_sent','method','request','http_version','time_local']]"
   ]
  },
  {
   "cell_type": "code",
   "execution_count": 19,
   "metadata": {},
   "outputs": [],
   "source": [
    "apache['http_version']= apache['http_version'].astype(str)\n",
    "apache['Request'] = apache[['request', 'http_version']].agg('/HTTP/'.join, axis=1)\n",
    "apache['Request'] =apache[['method', 'Request']].agg(' '.join, axis=1)\n",
    "del apache ['request']\n",
    "del apache['http_version']\n",
    "del apache['method']"
   ]
  },
  {
   "cell_type": "code",
   "execution_count": 30,
   "metadata": {},
   "outputs": [
    {
     "data": {
      "text/html": [
       "<div>\n",
       "<style scoped>\n",
       "    .dataframe tbody tr th:only-of-type {\n",
       "        vertical-align: middle;\n",
       "    }\n",
       "\n",
       "    .dataframe tbody tr th {\n",
       "        vertical-align: top;\n",
       "    }\n",
       "\n",
       "    .dataframe thead th {\n",
       "        text-align: right;\n",
       "    }\n",
       "</style>\n",
       "<table border=\"1\" class=\"dataframe\">\n",
       "  <thead>\n",
       "    <tr style=\"text-align: right;\">\n",
       "      <th></th>\n",
       "      <th>Status</th>\n",
       "      <th>b</th>\n",
       "      <th>Time</th>\n",
       "      <th>Request</th>\n",
       "    </tr>\n",
       "  </thead>\n",
       "  <tbody>\n",
       "    <tr>\n",
       "      <th>0</th>\n",
       "      <td>400</td>\n",
       "      <td>143</td>\n",
       "      <td>29/Sep/2021:19:05:57 +0900</td>\n",
       "      <td>POST /en/alerts/notifications/HTTP/1.1</td>\n",
       "    </tr>\n",
       "    <tr>\n",
       "      <th>1</th>\n",
       "      <td>200</td>\n",
       "      <td>15406</td>\n",
       "      <td>29/Sep/2021:19:05:48 +0900</td>\n",
       "      <td>GET /static/build/img/favicon-40dbb4ce31bb9878...</td>\n",
       "    </tr>\n",
       "    <tr>\n",
       "      <th>2</th>\n",
       "      <td>304</td>\n",
       "      <td>0</td>\n",
       "      <td>29/Sep/2021:19:05:48 +0900</td>\n",
       "      <td>GET /static/build/img/page-img/login-sidebar.p...</td>\n",
       "    </tr>\n",
       "    <tr>\n",
       "      <th>3</th>\n",
       "      <td>304</td>\n",
       "      <td>0</td>\n",
       "      <td>29/Sep/2021:19:05:47 +0900</td>\n",
       "      <td>GET /static/build/main_js.bundle-38680b0270726...</td>\n",
       "    </tr>\n",
       "    <tr>\n",
       "      <th>4</th>\n",
       "      <td>200</td>\n",
       "      <td>257936</td>\n",
       "      <td>29/Sep/2021:19:05:47 +0900</td>\n",
       "      <td>GET /static/build/main_css.bundle-2c51c6fba66f...</td>\n",
       "    </tr>\n",
       "    <tr>\n",
       "      <th>...</th>\n",
       "      <td>...</td>\n",
       "      <td>...</td>\n",
       "      <td>...</td>\n",
       "      <td>...</td>\n",
       "    </tr>\n",
       "    <tr>\n",
       "      <th>267230</th>\n",
       "      <td>200</td>\n",
       "      <td>546</td>\n",
       "      <td>15/Jul/2021:16:06:35 +0900</td>\n",
       "      <td>GET /static/build/img/country-flags/jp-25ac778...</td>\n",
       "    </tr>\n",
       "    <tr>\n",
       "      <th>267231</th>\n",
       "      <td>200</td>\n",
       "      <td>1798</td>\n",
       "      <td>15/Jul/2021:16:06:35 +0900</td>\n",
       "      <td>GET /static/build/img/icon/sidebar/Discover-95...</td>\n",
       "    </tr>\n",
       "    <tr>\n",
       "      <th>267232</th>\n",
       "      <td>200</td>\n",
       "      <td>1341</td>\n",
       "      <td>15/Jul/2021:16:06:35 +0900</td>\n",
       "      <td>GET /static/build/img/icon/sidebar/Settings-ac...</td>\n",
       "    </tr>\n",
       "    <tr>\n",
       "      <th>267233</th>\n",
       "      <td>302</td>\n",
       "      <td>215</td>\n",
       "      <td>15/Jul/2021:16:06:35 +0900</td>\n",
       "      <td>GET //HTTP/1.1</td>\n",
       "    </tr>\n",
       "    <tr>\n",
       "      <th>267234</th>\n",
       "      <td>200</td>\n",
       "      <td>1206</td>\n",
       "      <td>15/Jul/2021:16:06:35 +0900</td>\n",
       "      <td>GET /static/build/img/icon/sidebar/Reports-act...</td>\n",
       "    </tr>\n",
       "  </tbody>\n",
       "</table>\n",
       "<p>267235 rows × 4 columns</p>\n",
       "</div>"
      ],
      "text/plain": [
       "        Status       b                        Time  \\\n",
       "0          400     143  29/Sep/2021:19:05:57 +0900   \n",
       "1          200   15406  29/Sep/2021:19:05:48 +0900   \n",
       "2          304       0  29/Sep/2021:19:05:48 +0900   \n",
       "3          304       0  29/Sep/2021:19:05:47 +0900   \n",
       "4          200  257936  29/Sep/2021:19:05:47 +0900   \n",
       "...        ...     ...                         ...   \n",
       "267230     200     546  15/Jul/2021:16:06:35 +0900   \n",
       "267231     200    1798  15/Jul/2021:16:06:35 +0900   \n",
       "267232     200    1341  15/Jul/2021:16:06:35 +0900   \n",
       "267233     302     215  15/Jul/2021:16:06:35 +0900   \n",
       "267234     200    1206  15/Jul/2021:16:06:35 +0900   \n",
       "\n",
       "                                                  Request  \n",
       "0                  POST /en/alerts/notifications/HTTP/1.1  \n",
       "1       GET /static/build/img/favicon-40dbb4ce31bb9878...  \n",
       "2       GET /static/build/img/page-img/login-sidebar.p...  \n",
       "3       GET /static/build/main_js.bundle-38680b0270726...  \n",
       "4       GET /static/build/main_css.bundle-2c51c6fba66f...  \n",
       "...                                                   ...  \n",
       "267230  GET /static/build/img/country-flags/jp-25ac778...  \n",
       "267231  GET /static/build/img/icon/sidebar/Discover-95...  \n",
       "267232  GET /static/build/img/icon/sidebar/Settings-ac...  \n",
       "267233                                     GET //HTTP/1.1  \n",
       "267234  GET /static/build/img/icon/sidebar/Reports-act...  \n",
       "\n",
       "[267235 rows x 4 columns]"
      ]
     },
     "execution_count": 30,
     "metadata": {},
     "output_type": "execute_result"
    }
   ],
   "source": [
    "df = apache.rename(columns={'status': 'Status', 'body_bytes_sent':'b', \n",
    "                        'Request':'Request', 'time_local': 'Time'})\n",
    "df"
   ]
  },
  {
   "cell_type": "code",
   "execution_count": 31,
   "metadata": {},
   "outputs": [],
   "source": [
    "df.index = pd.to_datetime(df.pop('Time'),format = '%d/%b/%Y:%H:%M:%S +%f')"
   ]
  },
  {
   "cell_type": "code",
   "execution_count": 32,
   "metadata": {},
   "outputs": [],
   "source": [
    "df['Status'] = df['Status'].astype('int')"
   ]
  },
  {
   "cell_type": "code",
   "execution_count": 33,
   "metadata": {},
   "outputs": [],
   "source": [
    "def dash2nan(x):\n",
    "    if x == '-':\n",
    "        x = np.nan\n",
    "    else:\n",
    "        x = float(x)/1048576.\n",
    "    \n",
    "    return x\n",
    "df['b'] = df['b'].apply(dash2nan)"
   ]
  },
  {
   "cell_type": "markdown",
   "metadata": {},
   "source": [
    "Analysis\n",
    "\n",
    "Let's graph the data to visualize what is happening.\n",
    "\n",
    "First let's increase the graph size"
   ]
  },
  {
   "cell_type": "code",
   "execution_count": 34,
   "metadata": {},
   "outputs": [],
   "source": [
    "from pylab import *\n",
    "rcParams['figure.figsize'] = 10, 5 # width, height in inches"
   ]
  },
  {
   "cell_type": "markdown",
   "metadata": {},
   "source": [
    "\n",
    "\n",
    "Now let's graph the requests hitting the web server. 10t will use a 10 minute interval size, so each point on the graph shows the number of requestes in a 10 minute window.\n"
   ]
  },
  {
   "cell_type": "code",
   "execution_count": 37,
   "metadata": {},
   "outputs": [],
   "source": [
    "%matplotlib inline"
   ]
  },
  {
   "cell_type": "code",
   "execution_count": 44,
   "metadata": {},
   "outputs": [
    {
     "data": {
      "text/plain": [
       "<matplotlib.axes._subplots.AxesSubplot at 0x1cfcc9a08b0>"
      ]
     },
     "execution_count": 44,
     "metadata": {},
     "output_type": "execute_result"
    },
    {
     "data": {
      "image/png": "[encoded data removed]",
      "text/plain": [
       "<Figure size 432x288 with 1 Axes>"
      ]
     },
     "metadata": {
      "needs_background": "light"
     },
     "output_type": "display_data"
    }
   ],
   "source": [
    "df_s = df['Status'].resample('1000t').agg('count')\n",
    "df_s.plot()"
   ]
  },
  {
   "cell_type": "code",
   "execution_count": 45,
   "metadata": {},
   "outputs": [
    {
     "data": {
      "text/plain": [
       "200    261327\n",
       "428      2934\n",
       "304      1287\n",
       "500      1185\n",
       "404       170\n",
       "400       162\n",
       "302        94\n",
       "499        71\n",
       "301         5\n",
       "Name: Status, dtype: int64"
      ]
     },
     "execution_count": 45,
     "metadata": {},
     "output_type": "execute_result"
    }
   ],
   "source": [
    "df['Status'].value_counts()"
   ]
  },
  {
   "cell_type": "code",
   "execution_count": 51,
   "metadata": {},
   "outputs": [
    {
     "data": {
      "text/plain": [
       "<matplotlib.axes._subplots.AxesSubplot at 0x1cfcf1e4730>"
      ]
     },
     "execution_count": 51,
     "metadata": {},
     "output_type": "execute_result"
    },
    {
     "data": {
      "image/png": "[encoded data removed]",
      "text/plain": [
       "<Figure size 432x288 with 1 Axes>"
      ]
     },
     "metadata": {
      "needs_background": "light"
     },
     "output_type": "display_data"
    }
   ],
   "source": [
    "grouped_status = df.groupby('Status')\n",
    "grouped_status.size().plot(kind='bar')"
   ]
  },
  {
   "cell_type": "code",
   "execution_count": 78,
   "metadata": {},
   "outputs": [],
   "source": [
    "t_span = '5000t'\n",
    "df_200 = df['Status'][df['Status'] == 200].resample(t_span).agg('count')\n",
    "df_500 = df['Status'][df['Status'] == 500].resample(t_span).agg('count')\n",
    "df_499 = df['Status'][df['Status'] == 499].resample(t_span).agg('count')\n",
    "df_304 = df['Status'][df['Status'] == 304].resample(t_span).agg('count')\n",
    "df_302 = df['Status'][df['Status'] == 302].resample(t_span).agg('count')\n",
    "df_404 = df['Status'][df['Status'] == 404].resample(t_span).agg('count')\n",
    "df_428 = df['Status'][df['Status'] == 428].resample(t_span).agg('count')\n",
    "df_301 = df['Status'][df['Status'] == 301].resample(t_span).agg('count')\n",
    "df_400 = df['Status'][df['Status'] == 400].resample(t_span).agg('count')\n",
    "\n",
    "\n",
    "status_df = pd.DataFrame({'OK': df_200, \n",
    "                       'Internal Server': df_500, \n",
    "                       'Client Closed': df_499, \n",
    "                       'Not Modified': df_304, \n",
    "                       'Found': df_302, \n",
    "                       'Not Found': df_404,\n",
    "                       'Precondition Failed': df_428,\n",
    "                       'Moved Permenantely': df_301,\n",
    "                       'Bad Request': df_400})"
   ]
  },
  {
   "cell_type": "code",
   "execution_count": 79,
   "metadata": {},
   "outputs": [
    {
     "data": {
      "text/html": [
       "<div>\n",
       "<style scoped>\n",
       "    .dataframe tbody tr th:only-of-type {\n",
       "        vertical-align: middle;\n",
       "    }\n",
       "\n",
       "    .dataframe tbody tr th {\n",
       "        vertical-align: top;\n",
       "    }\n",
       "\n",
       "    .dataframe thead th {\n",
       "        text-align: right;\n",
       "    }\n",
       "</style>\n",
       "<table border=\"1\" class=\"dataframe\">\n",
       "  <thead>\n",
       "    <tr style=\"text-align: right;\">\n",
       "      <th></th>\n",
       "      <th>OK</th>\n",
       "      <th>Internal Server</th>\n",
       "      <th>Client Closed</th>\n",
       "      <th>Not Modified</th>\n",
       "      <th>Found</th>\n",
       "      <th>Not Found</th>\n",
       "      <th>Precondition Failed</th>\n",
       "      <th>Moved Permenantely</th>\n",
       "      <th>Bad Request</th>\n",
       "    </tr>\n",
       "    <tr>\n",
       "      <th>Time</th>\n",
       "      <th></th>\n",
       "      <th></th>\n",
       "      <th></th>\n",
       "      <th></th>\n",
       "      <th></th>\n",
       "      <th></th>\n",
       "      <th></th>\n",
       "      <th></th>\n",
       "      <th></th>\n",
       "    </tr>\n",
       "  </thead>\n",
       "  <tbody>\n",
       "    <tr>\n",
       "      <th>2021-07-15 00:00:00</th>\n",
       "      <td>257.0</td>\n",
       "      <td>0.0</td>\n",
       "      <td>0.0</td>\n",
       "      <td>351.0</td>\n",
       "      <td>4.0</td>\n",
       "      <td>0.0</td>\n",
       "      <td>0.0</td>\n",
       "      <td>0.0</td>\n",
       "      <td>0.0</td>\n",
       "    </tr>\n",
       "    <tr>\n",
       "      <th>2021-07-18 00:00:00</th>\n",
       "      <td>0.0</td>\n",
       "      <td>0.0</td>\n",
       "      <td>0.0</td>\n",
       "      <td>0.0</td>\n",
       "      <td>0.0</td>\n",
       "      <td>2.0</td>\n",
       "      <td>0.0</td>\n",
       "      <td>0.0</td>\n",
       "      <td>0.0</td>\n",
       "    </tr>\n",
       "    <tr>\n",
       "      <th>2021-07-18 11:20:00</th>\n",
       "      <td>2.0</td>\n",
       "      <td>0.0</td>\n",
       "      <td>0.0</td>\n",
       "      <td>3.0</td>\n",
       "      <td>0.0</td>\n",
       "      <td>0.0</td>\n",
       "      <td>0.0</td>\n",
       "      <td>0.0</td>\n",
       "      <td>0.0</td>\n",
       "    </tr>\n",
       "    <tr>\n",
       "      <th>2021-07-21 11:20:00</th>\n",
       "      <td>0.0</td>\n",
       "      <td>0.0</td>\n",
       "      <td>0.0</td>\n",
       "      <td>0.0</td>\n",
       "      <td>0.0</td>\n",
       "      <td>0.0</td>\n",
       "      <td>0.0</td>\n",
       "      <td>0.0</td>\n",
       "      <td>0.0</td>\n",
       "    </tr>\n",
       "    <tr>\n",
       "      <th>2021-07-21 22:40:00</th>\n",
       "      <td>0.0</td>\n",
       "      <td>0.0</td>\n",
       "      <td>0.0</td>\n",
       "      <td>0.0</td>\n",
       "      <td>0.0</td>\n",
       "      <td>0.0</td>\n",
       "      <td>0.0</td>\n",
       "      <td>0.0</td>\n",
       "      <td>0.0</td>\n",
       "    </tr>\n",
       "  </tbody>\n",
       "</table>\n",
       "</div>"
      ],
      "text/plain": [
       "                        OK  Internal Server  Client Closed  Not Modified  \\\n",
       "Time                                                                       \n",
       "2021-07-15 00:00:00  257.0              0.0            0.0         351.0   \n",
       "2021-07-18 00:00:00    0.0              0.0            0.0           0.0   \n",
       "2021-07-18 11:20:00    2.0              0.0            0.0           3.0   \n",
       "2021-07-21 11:20:00    0.0              0.0            0.0           0.0   \n",
       "2021-07-21 22:40:00    0.0              0.0            0.0           0.0   \n",
       "\n",
       "                     Found  Not Found  Precondition Failed  \\\n",
       "Time                                                         \n",
       "2021-07-15 00:00:00    4.0        0.0                  0.0   \n",
       "2021-07-18 00:00:00    0.0        2.0                  0.0   \n",
       "2021-07-18 11:20:00    0.0        0.0                  0.0   \n",
       "2021-07-21 11:20:00    0.0        0.0                  0.0   \n",
       "2021-07-21 22:40:00    0.0        0.0                  0.0   \n",
       "\n",
       "                     Moved Permenantely  Bad Request  \n",
       "Time                                                  \n",
       "2021-07-15 00:00:00                 0.0          0.0  \n",
       "2021-07-18 00:00:00                 0.0          0.0  \n",
       "2021-07-18 11:20:00                 0.0          0.0  \n",
       "2021-07-21 11:20:00                 0.0          0.0  \n",
       "2021-07-21 22:40:00                 0.0          0.0  "
      ]
     },
     "execution_count": 79,
     "metadata": {},
     "output_type": "execute_result"
    }
   ],
   "source": [
    "status_df.fillna(0, inplace=True)\n",
    "status_df[0:5]"
   ]
  },
  {
   "cell_type": "code",
   "execution_count": 80,
   "metadata": {},
   "outputs": [
    {
     "data": {
      "text/plain": [
       "<matplotlib.legend.Legend at 0x1cfd27864c0>"
      ]
     },
     "execution_count": 80,
     "metadata": {},
     "output_type": "execute_result"
    },
    {
     "data": {
      "image/png": "[encoded data removed]",
      "text/plain": [
       "<Figure size 432x288 with 1 Axes>"
      ]
     },
     "metadata": {
      "needs_background": "light"
     },
     "output_type": "display_data"
    }
   ],
   "source": [
    "status_df.plot()\n",
    "legend()"
   ]
  },
  {
   "cell_type": "raw",
   "metadata": {},
   "source": [
    "\n",
    "\n",
    "This doesn't look too bad either, but it's hard to make sense of what is going on with so many different response codes. Let's group them into success (web server handled it as expected) and failure (web server error or client closed request).\n",
    "\n",
    "200    413236    Success    OK \n",
    "502     39769    Failure    Bad Gateway\n",
    "499     37443    Failure    Client closed request\n",
    "304     29777    Success    Not modified\n",
    "302      9467    Success    Found\n",
    "404      8171    Success    Not Found\n",
    "504      8105    Failure    Gateway timeout\n",
    "301      1743    Success    Moved permanently\n",
    "401       677    Success    Unauthorized\n",
    "403       262    Success    Forbidden\n",
    "500       171    Failure    Internal server error\n",
    "206        51    Success    Partial content\n",
    "444        40    Failure?   No response\n",
    "400        20    Success?   Bad request\n",
    "408         4    Success?   Request timeout\n",
    "405         1    Success?   Method not allowed\n",
    "\n"
   ]
  },
  {
   "cell_type": "code",
   "execution_count": 84,
   "metadata": {},
   "outputs": [
    {
     "data": {
      "text/plain": [
       "<matplotlib.legend.Legend at 0x1cfc03023a0>"
      ]
     },
     "execution_count": 84,
     "metadata": {},
     "output_type": "execute_result"
    },
    {
     "data": {
      "image/png": "[encoded data removed]",
      "text/plain": [
       "<Figure size 432x288 with 1 Axes>"
      ]
     },
     "metadata": {
      "needs_background": "light"
     },
     "output_type": "display_data"
    },
    {
     "data": {
      "image/png": "[encoded data removed]",
      "text/plain": [
       "<Figure size 432x288 with 1 Axes>"
      ]
     },
     "metadata": {
      "needs_background": "light"
     },
     "output_type": "display_data"
    }
   ],
   "source": [
    "success_df = df[df['Status'].isin([200, 304, 302, 404, 301, 401, 403, 206, 444, 400, 408, 405])].resample(t_span).agg('count')\n",
    "fail_df = df[df['Status'].isin([502, 499, 504, 500, 444])].resample(t_span).agg('count')\n",
    "success_df.plot(label=\"Success\")\n",
    "fail_df.plot(label=\"Failure\")\n",
    "legend()"
   ]
  },
  {
   "cell_type": "code",
   "execution_count": 85,
   "metadata": {},
   "outputs": [
    {
     "name": "stderr",
     "output_type": "stream",
     "text": [
      "C:\\Users\\admin\\anaconda3\\lib\\site-packages\\pandas\\core\\strings.py:1954: UserWarning: This pattern has match groups. To actually get the groups, use str.extract.\n",
      "  return func(self, *args, **kwargs)\n"
     ]
    },
    {
     "data": {
      "text/html": [
       "<div>\n",
       "<style scoped>\n",
       "    .dataframe tbody tr th:only-of-type {\n",
       "        vertical-align: middle;\n",
       "    }\n",
       "\n",
       "    .dataframe tbody tr th {\n",
       "        vertical-align: top;\n",
       "    }\n",
       "\n",
       "    .dataframe thead th {\n",
       "        text-align: right;\n",
       "    }\n",
       "</style>\n",
       "<table border=\"1\" class=\"dataframe\">\n",
       "  <thead>\n",
       "    <tr style=\"text-align: right;\">\n",
       "      <th></th>\n",
       "      <th>Status</th>\n",
       "      <th>b</th>\n",
       "      <th>Request</th>\n",
       "    </tr>\n",
       "    <tr>\n",
       "      <th>Time</th>\n",
       "      <th></th>\n",
       "      <th></th>\n",
       "      <th></th>\n",
       "    </tr>\n",
       "  </thead>\n",
       "  <tbody>\n",
       "    <tr>\n",
       "      <th>2021-09-29 19:05:57.090</th>\n",
       "      <td>400</td>\n",
       "      <td>0.000136</td>\n",
       "      <td>POST /en/alerts/notifications/HTTP/1.1</td>\n",
       "    </tr>\n",
       "    <tr>\n",
       "      <th>2021-09-29 19:05:47.090</th>\n",
       "      <td>200</td>\n",
       "      <td>0.004508</td>\n",
       "      <td>GET /en//HTTP/1.1</td>\n",
       "    </tr>\n",
       "    <tr>\n",
       "      <th>2021-09-29 19:03:38.090</th>\n",
       "      <td>200</td>\n",
       "      <td>0.004508</td>\n",
       "      <td>GET /en//HTTP/1.1</td>\n",
       "    </tr>\n",
       "    <tr>\n",
       "      <th>2021-09-29 18:57:22.090</th>\n",
       "      <td>200</td>\n",
       "      <td>0.004508</td>\n",
       "      <td>GET /en//HTTP/1.1</td>\n",
       "    </tr>\n",
       "    <tr>\n",
       "      <th>2021-09-29 18:57:22.090</th>\n",
       "      <td>302</td>\n",
       "      <td>0.000205</td>\n",
       "      <td>GET //HTTP/1.1</td>\n",
       "    </tr>\n",
       "    <tr>\n",
       "      <th>2021-09-29 18:56:41.090</th>\n",
       "      <td>400</td>\n",
       "      <td>0.000136</td>\n",
       "      <td>POST /en/alerts/notifications/HTTP/1.1</td>\n",
       "    </tr>\n",
       "    <tr>\n",
       "      <th>2021-09-29 18:37:04.090</th>\n",
       "      <td>400</td>\n",
       "      <td>0.000136</td>\n",
       "      <td>POST /en/alerts/notifications/HTTP/1.1</td>\n",
       "    </tr>\n",
       "    <tr>\n",
       "      <th>2021-09-29 18:33:38.090</th>\n",
       "      <td>200</td>\n",
       "      <td>0.004508</td>\n",
       "      <td>GET /en//HTTP/1.1</td>\n",
       "    </tr>\n",
       "    <tr>\n",
       "      <th>2021-09-29 18:33:38.090</th>\n",
       "      <td>302</td>\n",
       "      <td>0.000205</td>\n",
       "      <td>GET //HTTP/1.1</td>\n",
       "    </tr>\n",
       "    <tr>\n",
       "      <th>2021-09-29 18:32:31.090</th>\n",
       "      <td>400</td>\n",
       "      <td>0.000136</td>\n",
       "      <td>POST /en/alerts/notifications/HTTP/1.1</td>\n",
       "    </tr>\n",
       "  </tbody>\n",
       "</table>\n",
       "</div>"
      ],
      "text/plain": [
       "                         Status         b  \\\n",
       "Time                                        \n",
       "2021-09-29 19:05:57.090     400  0.000136   \n",
       "2021-09-29 19:05:47.090     200  0.004508   \n",
       "2021-09-29 19:03:38.090     200  0.004508   \n",
       "2021-09-29 18:57:22.090     200  0.004508   \n",
       "2021-09-29 18:57:22.090     302  0.000205   \n",
       "2021-09-29 18:56:41.090     400  0.000136   \n",
       "2021-09-29 18:37:04.090     400  0.000136   \n",
       "2021-09-29 18:33:38.090     200  0.004508   \n",
       "2021-09-29 18:33:38.090     302  0.000205   \n",
       "2021-09-29 18:32:31.090     400  0.000136   \n",
       "\n",
       "                                                        Request  \n",
       "Time                                                             \n",
       "2021-09-29 19:05:57.090  POST /en/alerts/notifications/HTTP/1.1  \n",
       "2021-09-29 19:05:47.090                       GET /en//HTTP/1.1  \n",
       "2021-09-29 19:03:38.090                       GET /en//HTTP/1.1  \n",
       "2021-09-29 18:57:22.090                       GET /en//HTTP/1.1  \n",
       "2021-09-29 18:57:22.090                          GET //HTTP/1.1  \n",
       "2021-09-29 18:56:41.090  POST /en/alerts/notifications/HTTP/1.1  \n",
       "2021-09-29 18:37:04.090  POST /en/alerts/notifications/HTTP/1.1  \n",
       "2021-09-29 18:33:38.090                       GET /en//HTTP/1.1  \n",
       "2021-09-29 18:33:38.090                          GET //HTTP/1.1  \n",
       "2021-09-29 18:32:31.090  POST /en/alerts/notifications/HTTP/1.1  "
      ]
     },
     "execution_count": 85,
     "metadata": {},
     "output_type": "execute_result"
    }
   ],
   "source": [
    "dynamic_df = df[df['Request'].str.contains(r'^GET /(static|favicon.ico)') == False]\n",
    "dynamic_df[0:10]"
   ]
  },
  {
   "cell_type": "code",
   "execution_count": 101,
   "metadata": {},
   "outputs": [
    {
     "data": {
      "text/plain": [
       "<matplotlib.legend.Legend at 0x1cfd40a4f70>"
      ]
     },
     "execution_count": 101,
     "metadata": {},
     "output_type": "execute_result"
    },
    {
     "data": {
      "image/png": "[encoded data removed]",
      "text/plain": [
       "<Figure size 432x288 with 1 Axes>"
      ]
     },
     "metadata": {
      "needs_background": "light"
     },
     "output_type": "display_data"
    },
    {
     "data": {
      "image/png": "[encoded data removed]",
      "text/plain": [
       "<Figure size 432x288 with 1 Axes>"
      ]
     },
     "metadata": {
      "needs_background": "light"
     },
     "output_type": "display_data"
    }
   ],
   "source": [
    "success_df = dynamic_df[dynamic_df['Status'].isin([200, 304, 302, 301, 401])].resample(t_span).agg('count')\n",
    "success_df = success_df [['Status']]\n",
    "fail_df = dynamic_df[dynamic_df['Status'].isin([502, 499, 504, 500])].resample(t_span).agg('count')\n",
    "fail_df = fail_df [['Status']]\n",
    "success_df.plot(label=\"Success\", color=\"g\")\n",
    "fail_df.plot(label=\"Failure\", color=\"r\")\n",
    "legend()"
   ]
  },
  {
   "cell_type": "code",
   "execution_count": 123,
   "metadata": {},
   "outputs": [
    {
     "data": {
      "text/plain": [
       "<matplotlib.axes._subplots.AxesSubplot at 0x1cfd407c640>"
      ]
     },
     "execution_count": 123,
     "metadata": {},
     "output_type": "execute_result"
    },
    {
     "data": {
      "image/png": "[encoded data removed]",
      "text/plain": [
       "<Figure size 432x288 with 1 Axes>"
      ]
     },
     "metadata": {
      "needs_background": "light"
     },
     "output_type": "display_data"
    }
   ],
   "source": [
    "responses_df = pd.DataFrame.from_dict({'Success': success_df.Status, \n",
    "                          'Failure': fail_df.Status,\n",
    "                          },orient = 'index')\n",
    "responses_df = responses_df.T\n",
    "responses_df.plot(kind=\"bar\", stacked=True, xticks=())"
   ]
  },
  {
   "cell_type": "code",
   "execution_count": 126,
   "metadata": {},
   "outputs": [
    {
     "data": {
      "text/plain": [
       "GET /pgadmin4/dashboard/dashboard_stats/1/16384?chart_names=session_stats,tps_stats,ti_stats,to_stats,bio_stats/HTTP/1.1    203262\n",
       "GET /pgadmin4/sqleditor/status/4811155/HTTP/1.1                                                                              26885\n",
       "GET /pgadmin4/sqleditor/status/608565/HTTP/1.1                                                                                7827\n",
       "GET /pgadmin4/sqleditor/status/5912397/HTTP/1.1                                                                               6451\n",
       "GET /pgadmin4/sqleditor/status/3545984/HTTP/1.1                                                                               2849\n",
       "GET /pgadmin4/sqleditor/status/8481395/HTTP/1.1                                                                               2162\n",
       "GET /pgadmin4/sqleditor/status/4677609/HTTP/1.1                                                                               1855\n",
       "GET /pgadmin4/sqleditor/status/4613348/HTTP/1.1                                                                                999\n",
       "GET /pgadmin4/sqleditor/status/1533767/HTTP/1.1                                                                                931\n",
       "GET /pgadmin4/sqleditor/status/3902235/HTTP/1.1                                                                                895\n",
       "POST /pgadmin4/settings/store/HTTP/1.1                                                                                         836\n",
       "POST /pgadmin4/misc/cleanup/HTTP/1.1                                                                                           816\n",
       "GET /pgadmin4/sqleditor/status/1651239/HTTP/1.1                                                                                732\n",
       "GET /pgadmin4/sqleditor/status/4518198/HTTP/1.1                                                                                587\n",
       "GET /pgadmin4/sqleditor/status/7786443/HTTP/1.1                                                                                573\n",
       "GET /pgadmin4/sqleditor/status/4974794/HTTP/1.1                                                                                523\n",
       "GET /pgadmin4/sqleditor/status/8772078/HTTP/1.1                                                                                516\n",
       "GET /pgadmin4/sqleditor/fetch/608565/HTTP/1.1                                                                                  293\n",
       "GET /pgadmin4/sqleditor/status/9884993/HTTP/1.1                                                                                276\n",
       "GET /pgadmin4/sqleditor/status/3004537/HTTP/1.1                                                                                273\n",
       "GET /pgadmin4/sqleditor/poll/608565/HTTP/1.1                                                                                   270\n",
       "GET /pgadmin4/sqleditor/status/4221263/HTTP/1.1                                                                                228\n",
       "GET /pgadmin4/sqleditor/status/6331006/HTTP/1.1                                                                                226\n",
       "GET /pgadmin4/sqleditor/poll/3902235/HTTP/1.1                                                                                  217\n",
       "GET /pgadmin4/sqleditor/poll/4677609/HTTP/1.1                                                                                  203\n",
       "GET /pgadmin4/sqleditor/status/374270/HTTP/1.1                                                                                 177\n",
       "POST /en/alerts/notifications/HTTP/1.1                                                                                         173\n",
       "POST /ja/alerts/notifications/HTTP/1.1                                                                                         127\n",
       "GET /pgadmin4/sqleditor/status/873389/HTTP/1.1                                                                                 105\n",
       "GET /pgadmin4/dashboard/dashboard_stats/1/16384?chart_names=/HTTP/1.1                                                          100\n",
       "GET /pgadmin4/dashboard/dashboard_stats/1?chart_names=session_stats,tps_stats,ti_stats,to_stats,bio_stats/HTTP/1.1              77\n",
       "GET /pgadmin4/sqleditor/status/2704425/HTTP/1.1                                                                                 76\n",
       "POST /pgadmin4/settings/save_tree_state//HTTP/1.1                                                                               55\n",
       "OPTIONS //HTTP/1.1                                                                                                              53\n",
       "GET /pgadmin4/browser/browser.css?ver=50300/HTTP/1.1                                                                            51\n",
       "GET /pgadmin4/browser/js/messages.js?ver=50300/HTTP/1.1                                                                         51\n",
       "GET /pgadmin4/browser/js/utils.js?ver=50300/HTTP/1.1                                                                            51\n",
       "GET /pgadmin4/tools/translations.js?ver=50300/HTTP/1.1                                                                          51\n",
       "GET /pgadmin4/browser/js/constants.js?ver=50300/HTTP/1.1                                                                        51\n",
       "GET /pgadmin4/user_management/current_user.js?ver=50300/HTTP/1.1                                                                51\n",
       "Name: Request, dtype: int64"
      ]
     },
     "execution_count": 126,
     "metadata": {},
     "output_type": "execute_result"
    }
   ],
   "source": [
    "dynamic_df['Request'].value_counts().head(40)"
   ]
  },
  {
   "cell_type": "code",
   "execution_count": 131,
   "metadata": {},
   "outputs": [
    {
     "data": {
      "text/plain": [
       "200    257969\n",
       "428      2934\n",
       "500      1156\n",
       "302        70\n",
       "499        64\n",
       "404        64\n",
       "304        42\n",
       "400         6\n",
       "301         4\n",
       "Name: Status, dtype: int64"
      ]
     },
     "execution_count": 131,
     "metadata": {},
     "output_type": "execute_result"
    }
   ],
   "source": [
    "dynamic_df[dynamic_df['Request'].str.contains('GET')]['Status'].value_counts()"
   ]
  },
  {
   "cell_type": "code",
   "execution_count": null,
   "metadata": {},
   "outputs": [],
   "source": []
  }
 ],
 "metadata": {
  "kernelspec": {
   "display_name": "Python 3",
   "language": "python",
   "name": "python3"
  },
  "language_info": {
   "codemirror_mode": {
    "name": "ipython",
    "version": 3
   },
   "file_extension": ".py",
   "mimetype": "text/x-python",
   "name": "python",
   "nbconvert_exporter": "python",
   "pygments_lexer": "ipython3",
   "version": "3.8.3"
  }
 },
 "nbformat": 4,
 "nbformat_minor": 4
}
